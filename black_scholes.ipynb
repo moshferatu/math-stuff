{
 "cells": [
  {
   "cell_type": "markdown",
   "id": "d82c6a2a",
   "metadata": {},
   "source": [
    "# Black-Scholes Implementation"
   ]
  },
  {
   "cell_type": "markdown",
   "id": "bb01de95",
   "metadata": {},
   "source": [
    "## Option Pricing\n",
    "\n",
    "Reference: https://en.wikipedia.org/wiki/Black%E2%80%93Scholes_model#Black%E2%80%93Scholes_formula"
   ]
  },
  {
   "cell_type": "code",
   "execution_count": 1630,
   "id": "23c1b96a-256f-4eae-9511-11714f69e5bf",
   "metadata": {},
   "outputs": [],
   "source": [
    "import numpy as np\n",
    "\n",
    "from scipy.stats import norm\n",
    "\n",
    "interest_rate = 0.00\n",
    "underlying_price = 100\n",
    "strike_price = 105\n",
    "time = 30.0 / 365.0\n",
    "implied_volatility = 0.30\n",
    "\n",
    "def black_scholes(interest_rate, underlying_price, strike_price, time, implied_volatility, contract_type: str):\n",
    "    d1 = (np.log(underlying_price / strike_price) + (interest_rate + implied_volatility**2/2)*time)/(implied_volatility * np.sqrt(time))\n",
    "    d2 = d1 - (implied_volatility * np.sqrt(time))\n",
    "    if contract_type.lower() == 'c':\n",
    "        option_price = (underlying_price * norm.cdf(d1, 0, 1)) - (strike_price * np.exp(-interest_rate * time) * norm.cdf(d2, 0, 1))\n",
    "    else:\n",
    "        option_price = strike_price * np.exp(-interest_rate * time) * norm.cdf(-d2, 0, 1) - underlying_price*norm.cdf(-d1, 0, 1)\n",
    "    return option_price"
   ]
  },
  {
   "cell_type": "code",
   "execution_count": 1631,
   "id": "51c497a0",
   "metadata": {},
   "outputs": [
    {
     "name": "stdout",
     "output_type": "stream",
     "text": [
      "Option Price: 1.57\n"
     ]
    }
   ],
   "source": [
    "print('Option Price:', round(black_scholes(interest_rate, underlying_price, strike_price, time, implied_volatility, contract_type='C'), 2))"
   ]
  },
  {
   "cell_type": "markdown",
   "id": "33ba560e",
   "metadata": {},
   "source": [
    "### Validation"
   ]
  },
  {
   "cell_type": "code",
   "execution_count": 1632,
   "id": "0f37b97f",
   "metadata": {},
   "outputs": [],
   "source": [
    "from py_vollib.black_scholes import black_scholes as bs\n",
    "from py_vollib.black_scholes.greeks.analytical import delta, gamma, vega, theta, rho"
   ]
  },
  {
   "cell_type": "code",
   "execution_count": 1633,
   "id": "2880e3d7",
   "metadata": {},
   "outputs": [
    {
     "name": "stdout",
     "output_type": "stream",
     "text": [
      "Validation Price: 1.57\n"
     ]
    }
   ],
   "source": [
    "print('Validation Price:', round(bs('c', underlying_price, strike_price, time, interest_rate, implied_volatility), 2))"
   ]
  },
  {
   "cell_type": "markdown",
   "id": "fe68aa87",
   "metadata": {},
   "source": [
    "## Option Greeks\n",
    "\n",
    "Reference: https://en.wikipedia.org/wiki/Black%E2%80%93Scholes_model#The_Options_Greeks"
   ]
  },
  {
   "cell_type": "markdown",
   "id": "9737d363",
   "metadata": {},
   "source": [
    "### Delta\n",
    "\n",
    "Delta measures the rate of change of the theorectical option value with respect to a change in the underlying.\n",
    "\n",
    "$\\Delta = \\frac{\\partial V}{\\partial S}$\n",
    "\n",
    "$\\Delta_{call} = \\Phi (d1)$\n",
    "\n",
    "$\\Delta_{put} = -\\Phi (-d1)$\n"
   ]
  },
  {
   "cell_type": "code",
   "execution_count": 1634,
   "id": "05a3eafb",
   "metadata": {},
   "outputs": [],
   "source": [
    "def black_scholes_delta(interest_rate, underlying_price, strike_price, time, implied_volatility, contract_type):\n",
    "    d1 = (np.log(underlying_price / strike_price) + (interest_rate + implied_volatility**2/2)*time)/(implied_volatility * np.sqrt(time))\n",
    "    if contract_type == 'C':\n",
    "        delta = norm.cdf(d1, 0, 1)\n",
    "    else:\n",
    "        delta = -norm.cdf(-d1, 0, 1)\n",
    "    return delta"
   ]
  },
  {
   "cell_type": "code",
   "execution_count": 1635,
   "id": "2fd7619a",
   "metadata": {},
   "outputs": [
    {
     "name": "stdout",
     "output_type": "stream",
     "text": [
      "Option Delta: 0.3\n"
     ]
    }
   ],
   "source": [
    "print('Option Delta:', round(black_scholes_delta(interest_rate, underlying_price, strike_price, time, implied_volatility, contract_type='C'), 2))"
   ]
  },
  {
   "cell_type": "markdown",
   "id": "044677ee",
   "metadata": {},
   "source": [
    "#### Validation"
   ]
  },
  {
   "cell_type": "code",
   "execution_count": 1636,
   "id": "2e78260c",
   "metadata": {},
   "outputs": [
    {
     "name": "stdout",
     "output_type": "stream",
     "text": [
      "Validation Delta: 0.3\n"
     ]
    }
   ],
   "source": [
    "print('Validation Delta:', round(delta('c', underlying_price, strike_price, time, interest_rate, implied_volatility), 2))"
   ]
  },
  {
   "cell_type": "markdown",
   "id": "ef64331b",
   "metadata": {},
   "source": [
    "### Gamma\n",
    "\n",
    "Gamma measures the rate of change of delta with respect to changes in the underlying.\n",
    "\n",
    "$\\Gamma = \\frac{\\partial \\Delta}{\\partial S} = \\frac{\\partial^2 V}{\\partial S^2}$\n",
    "\n",
    "$\\Gamma = \\frac{\\phi (d1)}{S \\sigma \\sqrt{r}}$"
   ]
  },
  {
   "cell_type": "code",
   "execution_count": 1637,
   "id": "b82c3915",
   "metadata": {},
   "outputs": [],
   "source": [
    "def black_scholes_gamma(interest_rate, underlying_price, strike_price, time, implied_volatility):\n",
    "    d1 = (np.log(underlying_price / strike_price) + (interest_rate + implied_volatility**2/2)*time)/(implied_volatility * np.sqrt(time))\n",
    "    return norm.pdf(d1, 0, 1) / (underlying_price * implied_volatility * np.sqrt(time))"
   ]
  },
  {
   "cell_type": "code",
   "execution_count": 1638,
   "id": "f49af4e9",
   "metadata": {},
   "outputs": [
    {
     "name": "stdout",
     "output_type": "stream",
     "text": [
      "Option Gamma: 0.04\n"
     ]
    }
   ],
   "source": [
    "print('Option Gamma:', round(black_scholes_gamma(interest_rate, underlying_price, strike_price, time, implied_volatility), 2))"
   ]
  },
  {
   "cell_type": "markdown",
   "id": "ede9f90a",
   "metadata": {},
   "source": [
    "#### Validation"
   ]
  },
  {
   "cell_type": "code",
   "execution_count": 1639,
   "id": "b4becd76",
   "metadata": {},
   "outputs": [
    {
     "name": "stdout",
     "output_type": "stream",
     "text": [
      "Validation Gamma: 0.04\n"
     ]
    }
   ],
   "source": [
    "print('Validation Gamma:', round(gamma('c', underlying_price, strike_price, time, interest_rate, implied_volatility), 2))"
   ]
  },
  {
   "cell_type": "markdown",
   "id": "9004290f",
   "metadata": {},
   "source": [
    "### Vega\n",
    "\n",
    "Vega measures the sensitivity of an option to volatility, the change in option value with respect to the volatility of the underlying.\n",
    "\n",
    "$\\nu = \\frac{\\partial V}{\\partial \\sigma}$\n",
    "\n",
    "$\\nu = S \\phi (d1) \\sqrt{\\tau}$"
   ]
  },
  {
   "cell_type": "code",
   "execution_count": 1640,
   "id": "0c369bc7",
   "metadata": {},
   "outputs": [],
   "source": [
    "def black_scholes_vega(interest_rate, underlying_price, strike_price, time, implied_volatility):\n",
    "    d1 = (np.log(underlying_price / strike_price) + (interest_rate + implied_volatility**2/2)*time)/(implied_volatility * np.sqrt(time))\n",
    "    return underlying_price * norm.pdf(d1, 0, 1) * np.sqrt(time) * 0.01 # Sensitivity to a 1% change."
   ]
  },
  {
   "cell_type": "code",
   "execution_count": 1641,
   "id": "9c654f5c",
   "metadata": {},
   "outputs": [
    {
     "name": "stdout",
     "output_type": "stream",
     "text": [
      "Option Vega: 0.1\n"
     ]
    }
   ],
   "source": [
    "print('Option Vega:', round(black_scholes_vega(interest_rate, underlying_price, strike_price, time, implied_volatility), 2))"
   ]
  },
  {
   "cell_type": "markdown",
   "id": "5d99fc0d",
   "metadata": {},
   "source": [
    "#### Validation"
   ]
  },
  {
   "cell_type": "code",
   "execution_count": 1642,
   "id": "deb20350",
   "metadata": {},
   "outputs": [
    {
     "name": "stdout",
     "output_type": "stream",
     "text": [
      "Validation Vega: 0.1\n"
     ]
    }
   ],
   "source": [
    "print('Validation Vega:', round(vega('c', underlying_price, strike_price, time, interest_rate, implied_volatility), 2))"
   ]
  },
  {
   "cell_type": "markdown",
   "id": "6d2f3089",
   "metadata": {},
   "source": [
    "### Theta\n",
    "\n",
    "Theta measures the sensitivity of the value of the option to the passage of time.\n",
    "\n",
    "$\\Theta = -\\frac{\\partial V}{\\partial \\tau}$\n",
    "\n",
    "$\\Theta_{call} = -\\frac{S \\phi (d1) \\sigma}{2 \\sqrt{\\tau}} - r K exp(-rT) \\Phi (d2)$\n",
    "\n",
    "$\\Theta_{put} = -\\frac{S \\phi (d1) \\sigma}{2 \\sqrt{\\tau}} + r K exp(-rT) \\Phi (-d2)$"
   ]
  },
  {
   "cell_type": "code",
   "execution_count": 1643,
   "id": "12665287",
   "metadata": {},
   "outputs": [],
   "source": [
    "def black_scholes_theta(interest_rate, underlying_price, strike_price, time, implied_volatility, contract_type):\n",
    "    d1 = (np.log(underlying_price / strike_price) + (interest_rate + implied_volatility**2/2)*time)/(implied_volatility * np.sqrt(time))\n",
    "    d2 = d1 - (implied_volatility * np.sqrt(time))\n",
    "    if contract_type == 'C':\n",
    "        theta = -((underlying_price * norm.pdf(d1, 0, 1) * implied_volatility) / (2 * np.sqrt(time))) - (interest_rate * strike_price * np.exp(-interest_rate * time) * norm.cdf(d2, 0, 1))\n",
    "    else:\n",
    "        theta = -((underlying_price * norm.pdf(d1, 0, 1) * implied_volatility) / (2 * np.sqrt(time))) + (interest_rate * strike_price * np.exp(-interest_rate * time) * norm.cdf(-d2, 0, 1))\n",
    "    return theta / 365 # Daily change."
   ]
  },
  {
   "cell_type": "code",
   "execution_count": 1644,
   "id": "75acf849",
   "metadata": {},
   "outputs": [
    {
     "name": "stdout",
     "output_type": "stream",
     "text": [
      "Option Theta: -0.05\n"
     ]
    }
   ],
   "source": [
    "print('Option Theta:', round(black_scholes_theta(interest_rate, underlying_price, strike_price, time, implied_volatility, contract_type='C'), 2))"
   ]
  },
  {
   "cell_type": "markdown",
   "id": "be786523",
   "metadata": {},
   "source": [
    "#### Validation"
   ]
  },
  {
   "cell_type": "code",
   "execution_count": 1645,
   "id": "002cb32e",
   "metadata": {},
   "outputs": [
    {
     "name": "stdout",
     "output_type": "stream",
     "text": [
      "Validation Theta: -0.05\n"
     ]
    }
   ],
   "source": [
    "print('Validation Theta:', round(theta('c', underlying_price, strike_price, time, interest_rate, implied_volatility), 2))"
   ]
  },
  {
   "cell_type": "markdown",
   "id": "5e86ec97",
   "metadata": {},
   "source": [
    "### Rho\n",
    "\n",
    "Rho measures the sensitivity of the value of the option to the interest rate.\n",
    "\n",
    "$\\rho = \\frac{\\partial V}{\\partial r}$\n",
    "\n",
    "$\\rho_{call} = K \\tau exp(-rT) \\Phi (d2)$\n",
    "\n",
    "$\\rho_{put} = -K \\tau exp(-rT) \\Phi (-d2)$"
   ]
  },
  {
   "cell_type": "code",
   "execution_count": 1646,
   "id": "3f9c3726",
   "metadata": {},
   "outputs": [],
   "source": [
    "def black_scholes_rho(interest_rate, underlying_price, strike_price, time, implied_volatility, contract_type):\n",
    "    d1 = (np.log(underlying_price / strike_price) + (interest_rate + implied_volatility**2/2)*time)/(implied_volatility * np.sqrt(time))\n",
    "    d2 = d1 - (implied_volatility * np.sqrt(time))\n",
    "    if contract_type == 'C':\n",
    "        rho = underlying_price * time * np.exp(-interest_rate * time) * norm.cdf(d2, 0, 1)\n",
    "    else:\n",
    "        rho = -underlying_price * time * np.exp(-interest_rate * time) * norm.cdf(-d2, 0, 1)\n",
    "    return rho * 0.01 # Sensitivity to a 1% change."
   ]
  },
  {
   "cell_type": "code",
   "execution_count": 1647,
   "id": "cb250314",
   "metadata": {},
   "outputs": [
    {
     "name": "stdout",
     "output_type": "stream",
     "text": [
      "Option Rho: 0.02\n"
     ]
    }
   ],
   "source": [
    "print('Option Rho:', round(black_scholes_rho(interest_rate, underlying_price, strike_price, time, implied_volatility, contract_type='C'), 2))"
   ]
  },
  {
   "cell_type": "markdown",
   "id": "d185d613",
   "metadata": {},
   "source": [
    "#### Validation"
   ]
  },
  {
   "cell_type": "code",
   "execution_count": 1648,
   "id": "880b0488",
   "metadata": {},
   "outputs": [
    {
     "name": "stdout",
     "output_type": "stream",
     "text": [
      "Validation Rho: 0.02\n"
     ]
    }
   ],
   "source": [
    "print('Validation Rho:', round(rho('c', underlying_price, strike_price, time, interest_rate, implied_volatility), 2))"
   ]
  },
  {
   "cell_type": "markdown",
   "id": "7319ac9a",
   "metadata": {},
   "source": [
    "### Summary"
   ]
  },
  {
   "cell_type": "code",
   "execution_count": 1649,
   "id": "26d3c1e6",
   "metadata": {},
   "outputs": [
    {
     "name": "stdout",
     "output_type": "stream",
     "text": [
      "Option Price: 1.57\n",
      "       Delta: 0.3\n",
      "       Gamma: 0.04\n",
      "        Vega: 0.1\n",
      "       Theta: -0.05\n",
      "         Rho: 0.02\n"
     ]
    }
   ],
   "source": [
    "print('Option Price:', round(black_scholes(interest_rate, underlying_price, strike_price, time, implied_volatility, contract_type='C'), 2))\n",
    "print('       Delta:', round(black_scholes_delta(interest_rate, underlying_price, strike_price, time, implied_volatility, contract_type='C'), 2))\n",
    "print('       Gamma:', round(black_scholes_gamma(interest_rate, underlying_price, strike_price, time, implied_volatility), 2))\n",
    "print('        Vega:', round(black_scholes_vega(interest_rate, underlying_price, strike_price, time, implied_volatility), 2))\n",
    "print('       Theta:', round(black_scholes_theta(interest_rate, underlying_price, strike_price, time, implied_volatility, contract_type='C'), 2))\n",
    "print('         Rho:', round(black_scholes_rho(interest_rate, underlying_price, strike_price, time, implied_volatility, contract_type='C'), 2))"
   ]
  },
  {
   "cell_type": "markdown",
   "id": "1137c6f6",
   "metadata": {},
   "source": [
    "## Implied Volatility Calculation"
   ]
  },
  {
   "cell_type": "code",
   "execution_count": 1650,
   "id": "300c14d8",
   "metadata": {},
   "outputs": [],
   "source": [
    "def black_scholes_implied_volatility(option_price, underlying_price, strike_price, time_to_maturity, interest_rate, contract_type, tolerance=0.0001):\n",
    "    _implied_volatility = 0.20 # Initial guess of 20%.\n",
    "    while True: # Assuming convergence of Newton's method.\n",
    "        bs_price = black_scholes(interest_rate, underlying_price, strike_price, time_to_maturity, _implied_volatility, contract_type)\n",
    "        bs_vega = black_scholes_vega(interest_rate, underlying_price, strike_price, time, _implied_volatility) * 100\n",
    "        price_discrepancy = bs_price - option_price\n",
    "        updated_implied_volatility = _implied_volatility - (price_discrepancy / bs_vega)\n",
    "        if ((abs(updated_implied_volatility - _implied_volatility) < tolerance) or (abs(price_discrepancy) < tolerance)):\n",
    "            return updated_implied_volatility\n",
    "        _implied_volatility = updated_implied_volatility"
   ]
  },
  {
   "cell_type": "code",
   "execution_count": 1651,
   "id": "e27b056f",
   "metadata": {},
   "outputs": [
    {
     "name": "stdout",
     "output_type": "stream",
     "text": [
      "Implied Volatility: 0.34\n"
     ]
    }
   ],
   "source": [
    "print('Implied Volatility: {:0.2f}'.format(round(black_scholes_implied_volatility(1.70, 4504, 4375, (1 / 365), interest_rate, contract_type='p'), 2)))"
   ]
  }
 ],
 "metadata": {
  "kernelspec": {
   "display_name": "Python 3 (ipykernel)",
   "language": "python",
   "name": "python3"
  },
  "language_info": {
   "codemirror_mode": {
    "name": "ipython",
    "version": 3
   },
   "file_extension": ".py",
   "mimetype": "text/x-python",
   "name": "python",
   "nbconvert_exporter": "python",
   "pygments_lexer": "ipython3",
   "version": "3.10.2"
  }
 },
 "nbformat": 4,
 "nbformat_minor": 5
}
